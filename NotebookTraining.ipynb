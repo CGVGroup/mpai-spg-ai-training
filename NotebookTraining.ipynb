{
 "cells": [
  {
   "cell_type": "code",
   "execution_count": null,
   "id": "20fea2a4-8e09-4803-be40-899fe4695d84",
   "metadata": {
    "tags": []
   },
   "outputs": [],
   "source": [
    "%load_ext autoreload\n",
    "%autoreload 2\n",
    "#%reload_ext autoreload"
   ]
  },
  {
   "cell_type": "code",
   "execution_count": null,
   "id": "45d2e55b",
   "metadata": {
    "tags": []
   },
   "outputs": [],
   "source": [
    "import tensorflow as tf\n",
    "import tensorflow.keras.layers as layers\n",
    "import numpy as np\n",
    "import matplotlib.pyplot as plt\n",
    "import pandas as pd\n",
    "import Notebook.Generator as Generator \n",
    "import Notebook.model_definitions as model_definitions"
   ]
  },
  {
   "cell_type": "markdown",
   "id": "4b7f6852",
   "metadata": {},
   "source": [
    "### Open input file"
   ]
  },
  {
   "cell_type": "code",
   "execution_count": null,
   "id": "e7838b32",
   "metadata": {
    "tags": []
   },
   "outputs": [],
   "source": [
    "\n",
    "PATH= \"Database\\GamesDatabase.txt\"\n",
    "COLUMNS=[\"Player\", \"X\", \"Z\", \"VEL_X\",\"VEL_Z\",\"ROT\",\"ANG_VEL_Y\",\"ACC_X\",\"ACC_Z\",\"TILE\",\"TILE_IND\",\"X_RELATIVE\",\"Z_RELATIVE\",\"TIME\"]\n",
    "ColumnsToRead=[\"Player\", \"X\", \"Z\", \"VEL_X\",\"VEL_Z\",\"ROT\",\"ANG_VEL_Y\",\"ACC_X\",\"ACC_Z\",\"TILE\",\"TILE_IND\",\"X_RELATIVE\",\"Z_RELATIVE\",\"TIME\",\"ACC\",\"TURN\",\"BREAK\"]\n",
    "DiscardColumns=[\"ACC\",\"TURN\",\"BREAK\"]\n",
    "DISCARD_COMMANDS=True"
   ]
  },
  {
   "cell_type": "code",
   "execution_count": null,
   "id": "41825ca2",
   "metadata": {
    "tags": []
   },
   "outputs": [],
   "source": [
    "SEQUENCE_LENGTH=50\n",
    "BATCH_SIZE=512\n",
    "FEATURES=7\n",
    "FEATURES_PREDICTED=5\n",
    "DISCARD=9"
   ]
  },
  {
   "cell_type": "code",
   "execution_count": null,
   "id": "252787ad-4829-467c-8bfa-c15a35435c94",
   "metadata": {
    "tags": []
   },
   "outputs": [],
   "source": [
    "Generator.SEQUENCE_LENGTH=SEQUENCE_LENGTH\n",
    "Generator.FEATURES=FEATURES\n",
    "Generator.DISCARD=DISCARD\n",
    "Generator.COLUMNS=COLUMNS\n",
    "train,val,test=Generator.single_care_dataframe(PATH,ColumnsToRead,DiscardColumns)"
   ]
  },
  {
   "cell_type": "code",
   "execution_count": null,
   "id": "c606f34c",
   "metadata": {
    "tags": []
   },
   "outputs": [],
   "source": [
    "def SubtractDF(df):\n",
    "    return df.groupby(\"RACE\",group_keys=False).apply(Generator.subtraction_columns)\n",
    "\n",
    "def SubtractAndBuildDF(df):\n",
    "    dfs=[]\n",
    "    for i in range(len(df)):\n",
    "        dfs.append(SubtractDF(df[i]))\n",
    "        #dfs.append(df[i])\n",
    "    united=dfs[0]\n",
    "    for i in range(1,len(df)):\n",
    "        united=pd.concat([united,dfs[i] ],ignore_index=True)\n",
    "    return united\n",
    "\n",
    "df_train= SubtractAndBuildDF(train)\n",
    "df_val= SubtractAndBuildDF(val)\n",
    "df_test= SubtractAndBuildDF(test)"
   ]
  },
  {
   "cell_type": "code",
   "execution_count": null,
   "id": "125a142c-90ad-41ed-bdd0-89476ac9e60c",
   "metadata": {
    "tags": []
   },
   "outputs": [],
   "source": [
    "df_train.head()"
   ]
  },
  {
   "cell_type": "code",
   "execution_count": null,
   "id": "0a0bf9d4-5ce5-4456-b36f-a61e19f60733",
   "metadata": {
    "tags": []
   },
   "outputs": [],
   "source": [
    "def check_nan_values(dataframe):\n",
    "    nan_values = dataframe.isnull().sum()\n",
    "    if nan_values.sum() == 0:\n",
    "        print(\"No NaN values found in the DataFrame.\")\n",
    "    else:\n",
    "        print(\"NaN values found in the DataFrame:\")\n",
    "        for col, count in nan_values.items():\n",
    "            if count > 0:\n",
    "                print(f\"Column '{col}' has {count} NaN value(s) at indexes:\")\n",
    "                nan_indexes = dataframe[dataframe[col].isnull()].index.tolist()\n",
    "                print(nan_indexes)\n",
    "                return nan_indexes\n",
    "                \n",
    "ind=check_nan_values(df_train)\n",
    "ind_1=check_nan_values(df_val)\n",
    "ind_2=check_nan_values(df_test)"
   ]
  },
  {
   "cell_type": "code",
   "execution_count": null,
   "id": "6e38c345",
   "metadata": {
    "tags": []
   },
   "outputs": [],
   "source": [
    "gen_train=Generator.DataGenerator(BATCH_SIZE,df_train,100000)\n",
    "gen_val=Generator.DataGenerator(BATCH_SIZE,df_val,100000)\n",
    "gen_test=Generator.DataGenerator(BATCH_SIZE,df_test,100000)\n"
   ]
  },
  {
   "cell_type": "markdown",
   "id": "1ce93477",
   "metadata": {
    "tags": []
   },
   "source": [
    "### Model definition"
   ]
  },
  {
   "cell_type": "markdown",
   "id": "e9f400a4",
   "metadata": {},
   "source": [
    "#### Train and print"
   ]
  },
  {
   "cell_type": "code",
   "execution_count": null,
   "id": "2d50ad3a",
   "metadata": {
    "tags": []
   },
   "outputs": [],
   "source": [
    "model_definitions.cars=1\n",
    "model_definitions.features=FEATURES\n",
    "model_definitions.sequence_length=SEQUENCE_LENGTH\n",
    "model_definitions.feat_pred=FEATURES_PREDICTED"
   ]
  },
  {
   "cell_type": "markdown",
   "id": "995fbcaa",
   "metadata": {
    "tags": []
   },
   "source": [
    "### Behaviour AI Engine Model"
   ]
  },
  {
   "cell_type": "markdown",
   "id": "a860b49e",
   "metadata": {},
   "source": [
    "LSTM & MLP Model"
   ]
  },
  {
   "cell_type": "code",
   "execution_count": null,
   "id": "9695dc32",
   "metadata": {
    "tags": []
   },
   "outputs": [],
   "source": [
    "lr =1e-4\n",
    "units=36\n",
    "cells=1\n",
    "normalization=False\n",
    "mlp_units=64\n",
    "mlp_cells=0\n",
    "dropout=0.4\n",
    "name=f\"LSTM{cells}_{units}_{lr}_{DISCARD}_MLP_{mlp_cells}_{mlp_units}_DROPOUT_{dropout}\"\n",
    "lstm_ph,history_lstm_ph=model_definitions.LSTM_Train(\n",
    "    gen_train,\n",
    "    gen_val,\n",
    "    learning_rate=lr,\n",
    "    patience=15,\n",
    "    name=name,\n",
    "    path=f\"LSTM_MLP\",\n",
    "    epoch=100, \n",
    "    dropout=dropout,\n",
    "    cells=cells,\n",
    "    units=units,\n",
    "    mlp_units=mlp_units,\n",
    "    mlp_cells=mlp_cells,\n",
    "    normalization=normalization,\n",
    "    verbose=1\n",
    ")\n",
    "ev=lstm_ph.evaluate(gen_test,verbose=0)\n",
    "print(f\"Loss: {ev[0]} MAE: {ev[1]} Accuracy: {ev[2]}\")\n",
    "#tf.saved_model.save(lstm_ph,f'saved_model/{name}')"
   ]
  }
 ],
 "metadata": {
  "kernelspec": {
   "display_name": "Python 3 (ipykernel)",
   "language": "python",
   "name": "python3"
  },
  "language_info": {
   "codemirror_mode": {
    "name": "ipython",
    "version": 3
   },
   "file_extension": ".py",
   "mimetype": "text/x-python",
   "name": "python",
   "nbconvert_exporter": "python",
   "pygments_lexer": "ipython3",
   "version": "3.10.9"
  }
 },
 "nbformat": 4,
 "nbformat_minor": 5
}
